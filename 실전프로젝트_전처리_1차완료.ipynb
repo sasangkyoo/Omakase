{
 "cells": [
  {
   "cell_type": "code",
   "execution_count": 39,
   "id": "fe66237a",
   "metadata": {},
   "outputs": [],
   "source": [
    "import pandas as pd\n",
    "import numpy as np\n",
    "\n",
    "# 데이터 불러오기\n",
    "df = pd.read_csv('/Users/t2023-m0069/Desktop/Github/Omakase/Courses.csv')"
   ]
  },
  {
   "cell_type": "code",
   "execution_count": 40,
   "id": "48f2e607",
   "metadata": {},
   "outputs": [
    {
     "name": "stdout",
     "output_type": "stream",
     "text": [
      "<class 'pandas.core.frame.DataFrame'>\n",
      "RangeIndex: 641138 entries, 0 to 641137\n",
      "Data columns (total 21 columns):\n",
      " #   Column             Non-Null Count   Dtype  \n",
      "---  ------             --------------   -----  \n",
      " 0   index              641138 non-null  int64  \n",
      " 1   course_id          641138 non-null  object \n",
      " 2   userid_DI          641138 non-null  object \n",
      " 3   registered         641138 non-null  int64  \n",
      " 4   viewed             641138 non-null  int64  \n",
      " 5   explored           641138 non-null  int64  \n",
      " 6   certified          641138 non-null  int64  \n",
      " 7   final_cc_cname_DI  641138 non-null  object \n",
      " 8   LoE_DI             535130 non-null  object \n",
      " 9   YoB                544533 non-null  float64\n",
      " 10  gender             554332 non-null  object \n",
      " 11  grade              592766 non-null  object \n",
      " 12  start_time_DI      641138 non-null  object \n",
      " 13  last_event_DI      462184 non-null  object \n",
      " 14  nevents            441987 non-null  float64\n",
      " 15  ndays_act          478395 non-null  float64\n",
      " 16  nplay_video        183608 non-null  float64\n",
      " 17  nchapters          382385 non-null  float64\n",
      " 18  nforum_posts       641138 non-null  int64  \n",
      " 19  roles              0 non-null       float64\n",
      " 20  incomplete_flag    100161 non-null  float64\n",
      "dtypes: float64(7), int64(6), object(8)\n",
      "memory usage: 102.7+ MB\n"
     ]
    }
   ],
   "source": [
    "df.info()"
   ]
  },
  {
   "cell_type": "markdown",
   "id": "9f30916a",
   "metadata": {},
   "source": []
  },
  {
   "cell_type": "code",
   "execution_count": 41,
   "id": "70edf99c",
   "metadata": {},
   "outputs": [
    {
     "name": "stdout",
     "output_type": "stream",
     "text": [
      "\n",
      "📊 조건별 삭제된 행 수\n",
      "- viewed=False but explored/certified=True: 8\n",
      "- viewed=False and all activity filled: 1\n",
      "- last_event < start_time: 1443\n",
      "- both start_time and last_event missing: 0\n",
      "- YoB > 2004.5: 608\n",
      "- nevents == 197757: 1\n",
      "- TOTAL REMOVED: 2061\n",
      "- FINAL REMAINING: 639077\n"
     ]
    }
   ],
   "source": [
    "import pandas as pd\n",
    "import numpy as np\n",
    "\n",
    "# 데이터 불러오기\n",
    "df_raw = pd.read_csv(\"Courses.csv\")  # 경로는 필요에 따라 수정\n",
    "original_len = len(df_raw)\n",
    "\n",
    "df = df_raw.copy()\n",
    "removal_log = {}\n",
    "\n",
    "# 날짜 변환\n",
    "df['start_time_DI'] = pd.to_datetime(df['start_time_DI'], errors='coerce')\n",
    "df['last_event_DI'] = pd.to_datetime(df['last_event_DI'], errors='coerce')\n",
    "\n",
    "# grade 전처리\n",
    "df['grade'] = pd.to_numeric(df['grade'].replace(' ', np.nan), errors='coerce')\n",
    "df['grade'] = df['grade'].replace(1.01, 1.0)\n",
    "\n",
    "# viewed=False인데 explored or certified=True → 삭제\n",
    "mask_unseen_completed = (df['viewed'] == False) & ((df['explored'] == True) | (df['certified'] == True))\n",
    "removal_log['viewed=False but explored/certified=True'] = mask_unseen_completed.sum()\n",
    "df = df[~mask_unseen_completed]\n",
    "\n",
    "# viewed=False이고 활동지표 모두 채워진 경우 삭제\n",
    "conditions = ['nplay_video', 'nchapters', 'nevents', 'ndays_act']\n",
    "cond_all_filled = (df['viewed'] == False) & df[conditions].notnull().all(axis=1)\n",
    "removal_log['viewed=False and all activity filled'] = cond_all_filled.sum()\n",
    "df = df[~cond_all_filled]\n",
    "\n",
    "# viewed=False이고 일부만 채워진 경우 → 0으로 대체\n",
    "cond_partial_filled = (df['viewed'] == False) & df[conditions].notnull().any(axis=1)\n",
    "df.loc[cond_partial_filled, conditions] = df.loc[cond_partial_filled, conditions].fillna(0)\n",
    "\n",
    "# 날짜 오류 제거\n",
    "date_error = (df['last_event_DI'] < df['start_time_DI']) & df['last_event_DI'].notna() & df['start_time_DI'].notna()\n",
    "removal_log['last_event < start_time'] = date_error.sum()\n",
    "df = df[~date_error]\n",
    "\n",
    "# start_time과 last_event 모두 결측 → 제거\n",
    "both_missing = df['start_time_DI'].isna() & df['last_event_DI'].isna()\n",
    "removal_log['both start_time and last_event missing'] = both_missing.sum()\n",
    "df = df[~both_missing]\n",
    "\n",
    "# YoB 이상치 제거\n",
    "q3 = df['YoB'].quantile(0.75)\n",
    "iqr = q3 - df['YoB'].quantile(0.25)\n",
    "upper_bound = q3 + 1.5 * iqr\n",
    "yob_outliers = df['YoB'] > upper_bound\n",
    "removal_log[f'YoB > {upper_bound:.1f}'] = yob_outliers.sum()\n",
    "df = df[~yob_outliers]\n",
    "\n",
    "# nevents 이상치 제거\n",
    "nevents_outlier = df['nevents'] == 197757\n",
    "removal_log['nevents == 197757'] = nevents_outlier.sum()\n",
    "df = df[~nevents_outlier]\n",
    "\n",
    "# 최종 정리\n",
    "removal_log['TOTAL REMOVED'] = original_len - len(df)\n",
    "removal_log['FINAL REMAINING'] = len(df)\n",
    "\n",
    "# 결과 출력\n",
    "print(\"\\n📊 조건별 삭제된 행 수\")\n",
    "for k, v in removal_log.items():\n",
    "    print(f\"- {k}: {v}\")\n"
   ]
  },
  {
   "cell_type": "code",
   "execution_count": 42,
   "id": "fb9e62cd",
   "metadata": {},
   "outputs": [
    {
     "name": "stdout",
     "output_type": "stream",
     "text": [
      "<class 'pandas.core.frame.DataFrame'>\n",
      "Index: 639077 entries, 0 to 641137\n",
      "Data columns (total 21 columns):\n",
      " #   Column             Non-Null Count   Dtype         \n",
      "---  ------             --------------   -----         \n",
      " 0   index              639077 non-null  int64         \n",
      " 1   course_id          639077 non-null  object        \n",
      " 2   userid_DI          639077 non-null  object        \n",
      " 3   registered         639077 non-null  int64         \n",
      " 4   viewed             639077 non-null  int64         \n",
      " 5   explored           639077 non-null  int64         \n",
      " 6   certified          639077 non-null  int64         \n",
      " 7   final_cc_cname_DI  639077 non-null  object        \n",
      " 8   LoE_DI             533404 non-null  object        \n",
      " 9   YoB                542781 non-null  float64       \n",
      " 10  gender             552548 non-null  object        \n",
      " 11  grade              582339 non-null  float64       \n",
      " 12  start_time_DI      639077 non-null  datetime64[ns]\n",
      " 13  last_event_DI      460454 non-null  datetime64[ns]\n",
      " 14  nevents            466204 non-null  float64       \n",
      " 15  ndays_act          477550 non-null  float64       \n",
      " 16  nplay_video        325985 non-null  float64       \n",
      " 17  nchapters          521335 non-null  float64       \n",
      " 18  nforum_posts       639077 non-null  int64         \n",
      " 19  roles              0 non-null       float64       \n",
      " 20  incomplete_flag    99885 non-null   float64       \n",
      "dtypes: datetime64[ns](2), float64(8), int64(6), object(5)\n",
      "memory usage: 107.3+ MB\n"
     ]
    }
   ],
   "source": [
    "df.info()"
   ]
  }
 ],
 "metadata": {
  "kernelspec": {
   "display_name": "Python 3",
   "language": "python",
   "name": "python3"
  },
  "language_info": {
   "codemirror_mode": {
    "name": "ipython",
    "version": 3
   },
   "file_extension": ".py",
   "mimetype": "text/x-python",
   "name": "python",
   "nbconvert_exporter": "python",
   "pygments_lexer": "ipython3",
   "version": "3.13.5"
  }
 },
 "nbformat": 4,
 "nbformat_minor": 5
}
