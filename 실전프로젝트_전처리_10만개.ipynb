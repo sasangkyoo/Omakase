{
 "cells": [
  {
   "cell_type": "code",
   "execution_count": 26,
   "id": "e6fa261e",
   "metadata": {},
   "outputs": [],
   "source": [
    "import pandas as pd\n",
    "import numpy as np\n",
    "\n",
    "# 데이터 불러오기\n",
    "df = pd.read_csv('/Users/t2023-m0069/Desktop/Github/Omakase/Courses.csv')"
   ]
  },
  {
   "cell_type": "code",
   "execution_count": 27,
   "id": "db99e433",
   "metadata": {},
   "outputs": [],
   "source": [
    "# grade 공백 → NaN, 숫자 변환, 1.01 → 1.0\n",
    "df['grade'] = pd.to_numeric(df['grade'].replace(' ', np.nan), errors='coerce')\n",
    "df['grade'] = df['grade'].replace(1.01, 1.0)\n",
    "# NaN 유지하면서 정수형 변환 (결측치 있을 수 있으므로 object로 남을 수 있음)\n",
    "df['grade'] = df['grade'].apply(lambda x: int(x) if pd.notnull(x) else np.nan)\n",
    "\n",
    "# viewed가 False인데 활동지표가 모두 채워진 경우 제거\n",
    "conditions = ['nevents', 'ndays_act', 'nchapters', 'nforum_posts']\n",
    "cond_all_filled = (df['viewed'] == False) & df[conditions].notnull().all(axis=1)\n",
    "df = df[~cond_all_filled]\n",
    "\n",
    "# viewed가 False인데 일부 지표만 채워진 경우 → 해당 값들 0으로\n",
    "cond_partial_filled = (df['viewed'] == False) & df[conditions].notnull().any(axis=1)\n",
    "df.loc[cond_partial_filled, conditions] = df.loc[cond_partial_filled, conditions].fillna(0)\n",
    "\n",
    "# last_event_DI가 start_time_DI보다 앞선 경우 삭제\n",
    "if all(col in df.columns for col in ['start_time_DI', 'last_event_DI']):\n",
    "    date_error = df['last_event_DI'] < df['start_time_DI']\n",
    "    date_error = date_error & df['last_event_DI'].notna() & df['start_time_DI'].notna()\n",
    "\n",
    "# YoB 이상치 제거 (IQR 기준 상위만)\n",
    "q3 = df['YoB'].quantile(0.75)\n",
    "iqr = q3 - df['YoB'].quantile(0.25)\n",
    "upper_bound = q3 + 1.5 * iqr\n",
    "df = df[df['YoB'] <= upper_bound]\n",
    "\n",
    "# 나이 파생 변수 생성\n",
    "df['age'] = 2025 - df['YoB']\n",
    "df['age'] = df['age'].where(df['YoB'].notnull(), 'Unknown')\n",
    "\n",
    "# 결측치 Unknown 처리\n",
    "df['LoE_DI'] = df['LoE_DI'].fillna('Unknown')\n",
    "df['gender'] = df['gender'].fillna('Unknown')\n",
    "\n",
    "# roles 컬럼 제거\n",
    "df = df.drop(columns=['roles'])"
   ]
  },
  {
   "cell_type": "code",
   "execution_count": 28,
   "id": "169fdfd4",
   "metadata": {},
   "outputs": [
    {
     "name": "stdout",
     "output_type": "stream",
     "text": [
      "<class 'pandas.core.frame.DataFrame'>\n",
      "Index: 542613 entries, 19330 to 641137\n",
      "Data columns (total 21 columns):\n",
      " #   Column             Non-Null Count   Dtype  \n",
      "---  ------             --------------   -----  \n",
      " 0   index              542613 non-null  int64  \n",
      " 1   course_id          542613 non-null  object \n",
      " 2   userid_DI          542613 non-null  object \n",
      " 3   registered         542613 non-null  int64  \n",
      " 4   viewed             542613 non-null  int64  \n",
      " 5   explored           542613 non-null  int64  \n",
      " 6   certified          542613 non-null  int64  \n",
      " 7   final_cc_cname_DI  542613 non-null  object \n",
      " 8   LoE_DI             542613 non-null  object \n",
      " 9   YoB                542613 non-null  float64\n",
      " 10  gender             542613 non-null  object \n",
      " 11  grade              493392 non-null  float64\n",
      " 12  start_time_DI      542613 non-null  object \n",
      " 13  last_event_DI      384982 non-null  object \n",
      " 14  nevents            475869 non-null  float64\n",
      " 15  ndays_act          485099 non-null  float64\n",
      " 16  nplay_video        149392 non-null  float64\n",
      " 17  nchapters          525010 non-null  float64\n",
      " 18  nforum_posts       542613 non-null  int64  \n",
      " 19  incomplete_flag    85531 non-null   float64\n",
      " 20  age                542613 non-null  float64\n",
      "dtypes: float64(8), int64(6), object(7)\n",
      "memory usage: 91.1+ MB\n"
     ]
    }
   ],
   "source": [
    "df.info()"
   ]
  }
 ],
 "metadata": {
  "kernelspec": {
   "display_name": "Python 3",
   "language": "python",
   "name": "python3"
  },
  "language_info": {
   "codemirror_mode": {
    "name": "ipython",
    "version": 3
   },
   "file_extension": ".py",
   "mimetype": "text/x-python",
   "name": "python",
   "nbconvert_exporter": "python",
   "pygments_lexer": "ipython3",
   "version": "3.13.5"
  }
 },
 "nbformat": 4,
 "nbformat_minor": 5
}
