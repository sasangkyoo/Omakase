{
 "cells": [
  {
   "cell_type": "code",
   "id": "initial_id",
   "metadata": {
    "collapsed": true,
    "ExecuteTime": {
     "end_time": "2025-08-04T06:55:22.703558Z",
     "start_time": "2025-08-04T06:55:22.691149Z"
    }
   },
   "source": [
    "import pandas as pd\n",
    "import numpy as np\n",
    "import matplotlib.pyplot as plt\n",
    "import seaborn as sns\n",
    "from datetime import datetime\n",
    "import warnings\n",
    "warnings.filterwarnings('ignore')\n",
    "\n",
    "plt.rcParams['font.family'] = 'Malgun Gothic'\n",
    "plt.rcParams['axes.unicode_minus'] = False"
   ],
   "outputs": [],
   "execution_count": 1
  },
  {
   "metadata": {},
   "cell_type": "markdown",
   "source": "# 1. 데이터 로드",
   "id": "7cb42af69660e9fa"
  },
  {
   "metadata": {
    "ExecuteTime": {
     "end_time": "2025-08-04T06:55:25.616636Z",
     "start_time": "2025-08-04T06:55:22.802982Z"
    }
   },
   "cell_type": "code",
   "source": [
    "data_path = \"../Courses.csv\"\n",
    "\n",
    "# 데이터 로드\n",
    "df = pd.read_csv(data_path)\n",
    "\n",
    "print(f\"행: {df.shape[0]:,}\")\n",
    "print(f\"열: {df.shape[1]}\")\n"
   ],
   "id": "7b957c1729fdc539",
   "outputs": [
    {
     "name": "stdout",
     "output_type": "stream",
     "text": [
      "행: 641,138\n",
      "열: 21\n"
     ]
    }
   ],
   "execution_count": 2
  },
  {
   "metadata": {},
   "cell_type": "markdown",
   "source": "# 2. 데이터 기본 정보 확인",
   "id": "6b2e450d0d893913"
  },
  {
   "metadata": {
    "ExecuteTime": {
     "end_time": "2025-08-04T06:55:28.904578Z",
     "start_time": "2025-08-04T06:55:25.656664Z"
    }
   },
   "cell_type": "code",
   "source": [
    "print(\"컬럼 정보:\")\n",
    "df.info()\n",
    "\n",
    "print(f\"\\n첫 5행 데이터:\")\n",
    "display(df.head())\n",
    "\n",
    "print(f\"\\n기술통계:\")\n",
    "display(df.describe())\n",
    "\n",
    "# 결측치 확인\n",
    "print(f\"\\n결측치 현황:\")\n",
    "missing_data = df.isnull().sum()\n",
    "missing_percent = (df.isnull().sum() / len(df) * 100).round(2)\n",
    "\n",
    "missing_df = pd.DataFrame({\n",
    "    '결측치 수': missing_data,\n",
    "    '결측치 비율(%)': missing_percent\n",
    "})\n",
    "display(missing_df[missing_df['결측치 수'] > 0])\n",
    "\n",
    "# 중복행 확인\n",
    "duplicate_count = df.duplicated().sum()\n",
    "print(f\"\\n중복행: {duplicate_count}개\")"
   ],
   "id": "103b9ad44811fd77",
   "outputs": [
    {
     "name": "stdout",
     "output_type": "stream",
     "text": [
      "컬럼 정보:\n",
      "<class 'pandas.core.frame.DataFrame'>\n",
      "RangeIndex: 641138 entries, 0 to 641137\n",
      "Data columns (total 21 columns):\n",
      " #   Column             Non-Null Count   Dtype  \n",
      "---  ------             --------------   -----  \n",
      " 0   index              641138 non-null  int64  \n",
      " 1   course_id          641138 non-null  object \n",
      " 2   userid_DI          641138 non-null  object \n",
      " 3   registered         641138 non-null  int64  \n",
      " 4   viewed             641138 non-null  int64  \n",
      " 5   explored           641138 non-null  int64  \n",
      " 6   certified          641138 non-null  int64  \n",
      " 7   final_cc_cname_DI  641138 non-null  object \n",
      " 8   LoE_DI             535130 non-null  object \n",
      " 9   YoB                544533 non-null  float64\n",
      " 10  gender             554332 non-null  object \n",
      " 11  grade              592766 non-null  object \n",
      " 12  start_time_DI      641138 non-null  object \n",
      " 13  last_event_DI      462184 non-null  object \n",
      " 14  nevents            441987 non-null  float64\n",
      " 15  ndays_act          478395 non-null  float64\n",
      " 16  nplay_video        183608 non-null  float64\n",
      " 17  nchapters          382385 non-null  float64\n",
      " 18  nforum_posts       641138 non-null  int64  \n",
      " 19  roles              0 non-null       float64\n",
      " 20  incomplete_flag    100161 non-null  float64\n",
      "dtypes: float64(7), int64(6), object(8)\n",
      "memory usage: 102.7+ MB\n",
      "\n",
      "첫 5행 데이터:\n"
     ]
    },
    {
     "data": {
      "text/plain": [
       "   index                   course_id       userid_DI  registered  viewed  \\\n",
       "0      0  HarvardX/CB22x/2013_Spring  MHxPC130442623           1       0   \n",
       "1      1         HarvardX/CS50x/2012  MHxPC130442623           1       1   \n",
       "2      2  HarvardX/CB22x/2013_Spring  MHxPC130275857           1       0   \n",
       "3      3         HarvardX/CS50x/2012  MHxPC130275857           1       0   \n",
       "4      4  HarvardX/ER22x/2013_Spring  MHxPC130275857           1       0   \n",
       "\n",
       "   explored  certified final_cc_cname_DI LoE_DI  YoB  ... grade start_time_DI  \\\n",
       "0         0          0     United States    NaN  NaN  ...     0    2012-12-19   \n",
       "1         0          0     United States    NaN  NaN  ...     0    2012-10-15   \n",
       "2         0          0     United States    NaN  NaN  ...     0    2013-02-08   \n",
       "3         0          0     United States    NaN  NaN  ...     0    2012-09-17   \n",
       "4         0          0     United States    NaN  NaN  ...     0    2012-12-19   \n",
       "\n",
       "  last_event_DI nevents  ndays_act  nplay_video  nchapters  nforum_posts  \\\n",
       "0    2013-11-17     NaN        9.0          NaN        NaN             0   \n",
       "1           NaN     NaN        9.0          NaN        1.0             0   \n",
       "2    2013-11-17     NaN       16.0          NaN        NaN             0   \n",
       "3           NaN     NaN       16.0          NaN        NaN             0   \n",
       "4           NaN     NaN       16.0          NaN        NaN             0   \n",
       "\n",
       "   roles  incomplete_flag  \n",
       "0    NaN              1.0  \n",
       "1    NaN              1.0  \n",
       "2    NaN              1.0  \n",
       "3    NaN              1.0  \n",
       "4    NaN              1.0  \n",
       "\n",
       "[5 rows x 21 columns]"
      ],
      "text/html": [
       "<div>\n",
       "<style scoped>\n",
       "    .dataframe tbody tr th:only-of-type {\n",
       "        vertical-align: middle;\n",
       "    }\n",
       "\n",
       "    .dataframe tbody tr th {\n",
       "        vertical-align: top;\n",
       "    }\n",
       "\n",
       "    .dataframe thead th {\n",
       "        text-align: right;\n",
       "    }\n",
       "</style>\n",
       "<table border=\"1\" class=\"dataframe\">\n",
       "  <thead>\n",
       "    <tr style=\"text-align: right;\">\n",
       "      <th></th>\n",
       "      <th>index</th>\n",
       "      <th>course_id</th>\n",
       "      <th>userid_DI</th>\n",
       "      <th>registered</th>\n",
       "      <th>viewed</th>\n",
       "      <th>explored</th>\n",
       "      <th>certified</th>\n",
       "      <th>final_cc_cname_DI</th>\n",
       "      <th>LoE_DI</th>\n",
       "      <th>YoB</th>\n",
       "      <th>...</th>\n",
       "      <th>grade</th>\n",
       "      <th>start_time_DI</th>\n",
       "      <th>last_event_DI</th>\n",
       "      <th>nevents</th>\n",
       "      <th>ndays_act</th>\n",
       "      <th>nplay_video</th>\n",
       "      <th>nchapters</th>\n",
       "      <th>nforum_posts</th>\n",
       "      <th>roles</th>\n",
       "      <th>incomplete_flag</th>\n",
       "    </tr>\n",
       "  </thead>\n",
       "  <tbody>\n",
       "    <tr>\n",
       "      <th>0</th>\n",
       "      <td>0</td>\n",
       "      <td>HarvardX/CB22x/2013_Spring</td>\n",
       "      <td>MHxPC130442623</td>\n",
       "      <td>1</td>\n",
       "      <td>0</td>\n",
       "      <td>0</td>\n",
       "      <td>0</td>\n",
       "      <td>United States</td>\n",
       "      <td>NaN</td>\n",
       "      <td>NaN</td>\n",
       "      <td>...</td>\n",
       "      <td>0</td>\n",
       "      <td>2012-12-19</td>\n",
       "      <td>2013-11-17</td>\n",
       "      <td>NaN</td>\n",
       "      <td>9.0</td>\n",
       "      <td>NaN</td>\n",
       "      <td>NaN</td>\n",
       "      <td>0</td>\n",
       "      <td>NaN</td>\n",
       "      <td>1.0</td>\n",
       "    </tr>\n",
       "    <tr>\n",
       "      <th>1</th>\n",
       "      <td>1</td>\n",
       "      <td>HarvardX/CS50x/2012</td>\n",
       "      <td>MHxPC130442623</td>\n",
       "      <td>1</td>\n",
       "      <td>1</td>\n",
       "      <td>0</td>\n",
       "      <td>0</td>\n",
       "      <td>United States</td>\n",
       "      <td>NaN</td>\n",
       "      <td>NaN</td>\n",
       "      <td>...</td>\n",
       "      <td>0</td>\n",
       "      <td>2012-10-15</td>\n",
       "      <td>NaN</td>\n",
       "      <td>NaN</td>\n",
       "      <td>9.0</td>\n",
       "      <td>NaN</td>\n",
       "      <td>1.0</td>\n",
       "      <td>0</td>\n",
       "      <td>NaN</td>\n",
       "      <td>1.0</td>\n",
       "    </tr>\n",
       "    <tr>\n",
       "      <th>2</th>\n",
       "      <td>2</td>\n",
       "      <td>HarvardX/CB22x/2013_Spring</td>\n",
       "      <td>MHxPC130275857</td>\n",
       "      <td>1</td>\n",
       "      <td>0</td>\n",
       "      <td>0</td>\n",
       "      <td>0</td>\n",
       "      <td>United States</td>\n",
       "      <td>NaN</td>\n",
       "      <td>NaN</td>\n",
       "      <td>...</td>\n",
       "      <td>0</td>\n",
       "      <td>2013-02-08</td>\n",
       "      <td>2013-11-17</td>\n",
       "      <td>NaN</td>\n",
       "      <td>16.0</td>\n",
       "      <td>NaN</td>\n",
       "      <td>NaN</td>\n",
       "      <td>0</td>\n",
       "      <td>NaN</td>\n",
       "      <td>1.0</td>\n",
       "    </tr>\n",
       "    <tr>\n",
       "      <th>3</th>\n",
       "      <td>3</td>\n",
       "      <td>HarvardX/CS50x/2012</td>\n",
       "      <td>MHxPC130275857</td>\n",
       "      <td>1</td>\n",
       "      <td>0</td>\n",
       "      <td>0</td>\n",
       "      <td>0</td>\n",
       "      <td>United States</td>\n",
       "      <td>NaN</td>\n",
       "      <td>NaN</td>\n",
       "      <td>...</td>\n",
       "      <td>0</td>\n",
       "      <td>2012-09-17</td>\n",
       "      <td>NaN</td>\n",
       "      <td>NaN</td>\n",
       "      <td>16.0</td>\n",
       "      <td>NaN</td>\n",
       "      <td>NaN</td>\n",
       "      <td>0</td>\n",
       "      <td>NaN</td>\n",
       "      <td>1.0</td>\n",
       "    </tr>\n",
       "    <tr>\n",
       "      <th>4</th>\n",
       "      <td>4</td>\n",
       "      <td>HarvardX/ER22x/2013_Spring</td>\n",
       "      <td>MHxPC130275857</td>\n",
       "      <td>1</td>\n",
       "      <td>0</td>\n",
       "      <td>0</td>\n",
       "      <td>0</td>\n",
       "      <td>United States</td>\n",
       "      <td>NaN</td>\n",
       "      <td>NaN</td>\n",
       "      <td>...</td>\n",
       "      <td>0</td>\n",
       "      <td>2012-12-19</td>\n",
       "      <td>NaN</td>\n",
       "      <td>NaN</td>\n",
       "      <td>16.0</td>\n",
       "      <td>NaN</td>\n",
       "      <td>NaN</td>\n",
       "      <td>0</td>\n",
       "      <td>NaN</td>\n",
       "      <td>1.0</td>\n",
       "    </tr>\n",
       "  </tbody>\n",
       "</table>\n",
       "<p>5 rows × 21 columns</p>\n",
       "</div>"
      ]
     },
     "metadata": {},
     "output_type": "display_data"
    },
    {
     "name": "stdout",
     "output_type": "stream",
     "text": [
      "\n",
      "기술통계:\n"
     ]
    },
    {
     "data": {
      "text/plain": [
       "               index  registered         viewed       explored      certified  \\\n",
       "count  641138.000000    641138.0  641138.000000  641138.000000  641138.000000   \n",
       "mean   320568.500000         1.0       0.624299       0.061899       0.027587   \n",
       "std    185080.742781         0.0       0.484304       0.240973       0.163786   \n",
       "min         0.000000         1.0       0.000000       0.000000       0.000000   \n",
       "25%    160284.250000         1.0       0.000000       0.000000       0.000000   \n",
       "50%    320568.500000         1.0       1.000000       0.000000       0.000000   \n",
       "75%    480852.750000         1.0       1.000000       0.000000       0.000000   \n",
       "max    641137.000000         1.0       1.000000       1.000000       1.000000   \n",
       "\n",
       "                 YoB        nevents      ndays_act    nplay_video  \\\n",
       "count  544533.000000  441987.000000  478395.000000  183608.000000   \n",
       "mean     1985.253279     431.008018       5.710254     114.844173   \n",
       "std         8.891814    1516.116057      11.866471     426.996844   \n",
       "min      1931.000000       1.000000       1.000000       1.000000   \n",
       "25%      1982.000000       3.000000       1.000000       5.000000   \n",
       "50%      1988.000000      24.000000       2.000000      18.000000   \n",
       "75%      1991.000000     158.000000       4.000000      73.000000   \n",
       "max      2013.000000  197757.000000     205.000000   98517.000000   \n",
       "\n",
       "           nchapters   nforum_posts  roles  incomplete_flag  \n",
       "count  382385.000000  641138.000000    0.0         100161.0  \n",
       "mean        3.634423       0.018968    NaN              1.0  \n",
       "std         4.490987       0.229539    NaN              0.0  \n",
       "min         1.000000       0.000000    NaN              1.0  \n",
       "25%         1.000000       0.000000    NaN              1.0  \n",
       "50%         2.000000       0.000000    NaN              1.0  \n",
       "75%         4.000000       0.000000    NaN              1.0  \n",
       "max        48.000000      20.000000    NaN              1.0  "
      ],
      "text/html": [
       "<div>\n",
       "<style scoped>\n",
       "    .dataframe tbody tr th:only-of-type {\n",
       "        vertical-align: middle;\n",
       "    }\n",
       "\n",
       "    .dataframe tbody tr th {\n",
       "        vertical-align: top;\n",
       "    }\n",
       "\n",
       "    .dataframe thead th {\n",
       "        text-align: right;\n",
       "    }\n",
       "</style>\n",
       "<table border=\"1\" class=\"dataframe\">\n",
       "  <thead>\n",
       "    <tr style=\"text-align: right;\">\n",
       "      <th></th>\n",
       "      <th>index</th>\n",
       "      <th>registered</th>\n",
       "      <th>viewed</th>\n",
       "      <th>explored</th>\n",
       "      <th>certified</th>\n",
       "      <th>YoB</th>\n",
       "      <th>nevents</th>\n",
       "      <th>ndays_act</th>\n",
       "      <th>nplay_video</th>\n",
       "      <th>nchapters</th>\n",
       "      <th>nforum_posts</th>\n",
       "      <th>roles</th>\n",
       "      <th>incomplete_flag</th>\n",
       "    </tr>\n",
       "  </thead>\n",
       "  <tbody>\n",
       "    <tr>\n",
       "      <th>count</th>\n",
       "      <td>641138.000000</td>\n",
       "      <td>641138.0</td>\n",
       "      <td>641138.000000</td>\n",
       "      <td>641138.000000</td>\n",
       "      <td>641138.000000</td>\n",
       "      <td>544533.000000</td>\n",
       "      <td>441987.000000</td>\n",
       "      <td>478395.000000</td>\n",
       "      <td>183608.000000</td>\n",
       "      <td>382385.000000</td>\n",
       "      <td>641138.000000</td>\n",
       "      <td>0.0</td>\n",
       "      <td>100161.0</td>\n",
       "    </tr>\n",
       "    <tr>\n",
       "      <th>mean</th>\n",
       "      <td>320568.500000</td>\n",
       "      <td>1.0</td>\n",
       "      <td>0.624299</td>\n",
       "      <td>0.061899</td>\n",
       "      <td>0.027587</td>\n",
       "      <td>1985.253279</td>\n",
       "      <td>431.008018</td>\n",
       "      <td>5.710254</td>\n",
       "      <td>114.844173</td>\n",
       "      <td>3.634423</td>\n",
       "      <td>0.018968</td>\n",
       "      <td>NaN</td>\n",
       "      <td>1.0</td>\n",
       "    </tr>\n",
       "    <tr>\n",
       "      <th>std</th>\n",
       "      <td>185080.742781</td>\n",
       "      <td>0.0</td>\n",
       "      <td>0.484304</td>\n",
       "      <td>0.240973</td>\n",
       "      <td>0.163786</td>\n",
       "      <td>8.891814</td>\n",
       "      <td>1516.116057</td>\n",
       "      <td>11.866471</td>\n",
       "      <td>426.996844</td>\n",
       "      <td>4.490987</td>\n",
       "      <td>0.229539</td>\n",
       "      <td>NaN</td>\n",
       "      <td>0.0</td>\n",
       "    </tr>\n",
       "    <tr>\n",
       "      <th>min</th>\n",
       "      <td>0.000000</td>\n",
       "      <td>1.0</td>\n",
       "      <td>0.000000</td>\n",
       "      <td>0.000000</td>\n",
       "      <td>0.000000</td>\n",
       "      <td>1931.000000</td>\n",
       "      <td>1.000000</td>\n",
       "      <td>1.000000</td>\n",
       "      <td>1.000000</td>\n",
       "      <td>1.000000</td>\n",
       "      <td>0.000000</td>\n",
       "      <td>NaN</td>\n",
       "      <td>1.0</td>\n",
       "    </tr>\n",
       "    <tr>\n",
       "      <th>25%</th>\n",
       "      <td>160284.250000</td>\n",
       "      <td>1.0</td>\n",
       "      <td>0.000000</td>\n",
       "      <td>0.000000</td>\n",
       "      <td>0.000000</td>\n",
       "      <td>1982.000000</td>\n",
       "      <td>3.000000</td>\n",
       "      <td>1.000000</td>\n",
       "      <td>5.000000</td>\n",
       "      <td>1.000000</td>\n",
       "      <td>0.000000</td>\n",
       "      <td>NaN</td>\n",
       "      <td>1.0</td>\n",
       "    </tr>\n",
       "    <tr>\n",
       "      <th>50%</th>\n",
       "      <td>320568.500000</td>\n",
       "      <td>1.0</td>\n",
       "      <td>1.000000</td>\n",
       "      <td>0.000000</td>\n",
       "      <td>0.000000</td>\n",
       "      <td>1988.000000</td>\n",
       "      <td>24.000000</td>\n",
       "      <td>2.000000</td>\n",
       "      <td>18.000000</td>\n",
       "      <td>2.000000</td>\n",
       "      <td>0.000000</td>\n",
       "      <td>NaN</td>\n",
       "      <td>1.0</td>\n",
       "    </tr>\n",
       "    <tr>\n",
       "      <th>75%</th>\n",
       "      <td>480852.750000</td>\n",
       "      <td>1.0</td>\n",
       "      <td>1.000000</td>\n",
       "      <td>0.000000</td>\n",
       "      <td>0.000000</td>\n",
       "      <td>1991.000000</td>\n",
       "      <td>158.000000</td>\n",
       "      <td>4.000000</td>\n",
       "      <td>73.000000</td>\n",
       "      <td>4.000000</td>\n",
       "      <td>0.000000</td>\n",
       "      <td>NaN</td>\n",
       "      <td>1.0</td>\n",
       "    </tr>\n",
       "    <tr>\n",
       "      <th>max</th>\n",
       "      <td>641137.000000</td>\n",
       "      <td>1.0</td>\n",
       "      <td>1.000000</td>\n",
       "      <td>1.000000</td>\n",
       "      <td>1.000000</td>\n",
       "      <td>2013.000000</td>\n",
       "      <td>197757.000000</td>\n",
       "      <td>205.000000</td>\n",
       "      <td>98517.000000</td>\n",
       "      <td>48.000000</td>\n",
       "      <td>20.000000</td>\n",
       "      <td>NaN</td>\n",
       "      <td>1.0</td>\n",
       "    </tr>\n",
       "  </tbody>\n",
       "</table>\n",
       "</div>"
      ]
     },
     "metadata": {},
     "output_type": "display_data"
    },
    {
     "name": "stdout",
     "output_type": "stream",
     "text": [
      "\n",
      "결측치 현황:\n"
     ]
    },
    {
     "data": {
      "text/plain": [
       "                  결측치 수  결측치 비율(%)\n",
       "LoE_DI           106008      16.53\n",
       "YoB               96605      15.07\n",
       "gender            86806      13.54\n",
       "grade             48372       7.54\n",
       "last_event_DI    178954      27.91\n",
       "nevents          199151      31.06\n",
       "ndays_act        162743      25.38\n",
       "nplay_video      457530      71.36\n",
       "nchapters        258753      40.36\n",
       "roles            641138     100.00\n",
       "incomplete_flag  540977      84.38"
      ],
      "text/html": [
       "<div>\n",
       "<style scoped>\n",
       "    .dataframe tbody tr th:only-of-type {\n",
       "        vertical-align: middle;\n",
       "    }\n",
       "\n",
       "    .dataframe tbody tr th {\n",
       "        vertical-align: top;\n",
       "    }\n",
       "\n",
       "    .dataframe thead th {\n",
       "        text-align: right;\n",
       "    }\n",
       "</style>\n",
       "<table border=\"1\" class=\"dataframe\">\n",
       "  <thead>\n",
       "    <tr style=\"text-align: right;\">\n",
       "      <th></th>\n",
       "      <th>결측치 수</th>\n",
       "      <th>결측치 비율(%)</th>\n",
       "    </tr>\n",
       "  </thead>\n",
       "  <tbody>\n",
       "    <tr>\n",
       "      <th>LoE_DI</th>\n",
       "      <td>106008</td>\n",
       "      <td>16.53</td>\n",
       "    </tr>\n",
       "    <tr>\n",
       "      <th>YoB</th>\n",
       "      <td>96605</td>\n",
       "      <td>15.07</td>\n",
       "    </tr>\n",
       "    <tr>\n",
       "      <th>gender</th>\n",
       "      <td>86806</td>\n",
       "      <td>13.54</td>\n",
       "    </tr>\n",
       "    <tr>\n",
       "      <th>grade</th>\n",
       "      <td>48372</td>\n",
       "      <td>7.54</td>\n",
       "    </tr>\n",
       "    <tr>\n",
       "      <th>last_event_DI</th>\n",
       "      <td>178954</td>\n",
       "      <td>27.91</td>\n",
       "    </tr>\n",
       "    <tr>\n",
       "      <th>nevents</th>\n",
       "      <td>199151</td>\n",
       "      <td>31.06</td>\n",
       "    </tr>\n",
       "    <tr>\n",
       "      <th>ndays_act</th>\n",
       "      <td>162743</td>\n",
       "      <td>25.38</td>\n",
       "    </tr>\n",
       "    <tr>\n",
       "      <th>nplay_video</th>\n",
       "      <td>457530</td>\n",
       "      <td>71.36</td>\n",
       "    </tr>\n",
       "    <tr>\n",
       "      <th>nchapters</th>\n",
       "      <td>258753</td>\n",
       "      <td>40.36</td>\n",
       "    </tr>\n",
       "    <tr>\n",
       "      <th>roles</th>\n",
       "      <td>641138</td>\n",
       "      <td>100.00</td>\n",
       "    </tr>\n",
       "    <tr>\n",
       "      <th>incomplete_flag</th>\n",
       "      <td>540977</td>\n",
       "      <td>84.38</td>\n",
       "    </tr>\n",
       "  </tbody>\n",
       "</table>\n",
       "</div>"
      ]
     },
     "metadata": {},
     "output_type": "display_data"
    },
    {
     "name": "stdout",
     "output_type": "stream",
     "text": [
      "\n",
      "중복행: 0개\n"
     ]
    }
   ],
   "execution_count": 3
  },
  {
   "metadata": {},
   "cell_type": "markdown",
   "source": "# 3. 데이터 타입 확인 및 기본 변경",
   "id": "a79c755b6ac353bb"
  },
  {
   "metadata": {
    "ExecuteTime": {
     "end_time": "2025-08-04T06:55:30.000302Z",
     "start_time": "2025-08-04T06:55:29.015692Z"
    }
   },
   "cell_type": "code",
   "source": [
    "# 원본 데이터 복사\n",
    "df_clean = df.copy()\n",
    "\n",
    "# Boolean 컬럼들 변환 (True/False 값인지 먼저 확인)\n",
    "boolean_cols = ['registered', 'viewed', 'explored', 'certified', 'incomplete_flag']\n",
    "for col in boolean_cols:\n",
    "    if col in df_clean.columns:\n",
    "        unique_vals = df_clean[col].dropna().unique()\n",
    "        if set(unique_vals).issubset({0, 1, True, False}):\n",
    "            df_clean[col] = df_clean[col].astype('bool')\n",
    "\n",
    "# 날짜 컬럼들 변환\n",
    "date_cols = ['start_time_DI', 'last_event_DI']\n",
    "for col in date_cols:\n",
    "    if col in df_clean.columns:\n",
    "        df_clean[col] = pd.to_datetime(df_clean[col], errors='coerce')\n",
    "\n",
    "# 숫자형 컬럼들 (grade는 전처리에서 다시 처리)\n",
    "numeric_cols = ['grade', 'nevents', 'ndays_act', 'nchapters', 'nforum_posts', 'nplay_video', 'YoB']\n",
    "for col in numeric_cols:\n",
    "    if col in df_clean.columns:\n",
    "        df_clean[col] = pd.to_numeric(df_clean[col], errors='coerce')\n"
   ],
   "id": "4542e889298cdce3",
   "outputs": [],
   "execution_count": 4
  },
  {
   "metadata": {},
   "cell_type": "markdown",
   "source": "# 4. 전처리 시작",
   "id": "5e6813b7f4afe010"
  },
  {
   "metadata": {
    "ExecuteTime": {
     "end_time": "2025-08-04T06:55:30.041447Z",
     "start_time": "2025-08-04T06:55:30.015125Z"
    }
   },
   "cell_type": "code",
   "source": [
    "# grade 컬럼의 공백 → NaN 처리\n",
    "if 'grade' in df_clean.columns:\n",
    "    df_clean['grade'] = df_clean['grade'].replace([' ', ''], np.nan)\n",
    "    df_clean['grade'] = pd.to_numeric(df_clean['grade'], errors='coerce')\n",
    "\n",
    "# Grade > 1.0 값들을 1.0으로 수정 (백분율 처리)\n",
    "if 'grade' in df_clean.columns:\n",
    "    over_one = df_clean['grade'] > 1.0\n",
    "    if over_one.sum() > 0:\n",
    "        df_clean.loc[df_clean['grade'] > 1.0, 'grade'] = 1.0\n",
    "        print(f\"grade > 1.0 값 {over_one.sum()}개를 1.0으로 수정\")\n"
   ],
   "id": "4c9e9641a5f0d4a",
   "outputs": [
    {
     "name": "stdout",
     "output_type": "stream",
     "text": [
      "grade > 1.0 값 6개를 1.0으로 수정\n"
     ]
    }
   ],
   "execution_count": 5
  },
  {
   "metadata": {
    "ExecuteTime": {
     "end_time": "2025-08-04T06:55:30.263269Z",
     "start_time": "2025-08-04T06:55:30.092792Z"
    }
   },
   "cell_type": "code",
   "source": [
    "# viewed=False인데 explored=True 또는 certified=True인 경우\n",
    "logical_error = (df_clean['viewed'] == False) & (\n",
    "    (df_clean['explored'] == True) |\n",
    "    (df_clean['certified'] == True)\n",
    ")\n",
    "\n",
    "error_count = logical_error.sum()\n",
    "\n",
    "if error_count > 0:\n",
    "    error_data = df_clean[logical_error]\n",
    "    df_clean = df_clean[~logical_error]"
   ],
   "id": "f509b34b7ed3fc1c",
   "outputs": [],
   "execution_count": 6
  },
  {
   "metadata": {
    "ExecuteTime": {
     "end_time": "2025-08-04T06:55:30.423442Z",
     "start_time": "2025-08-04T06:55:30.276229Z"
    }
   },
   "cell_type": "code",
   "source": [
    "# 극단값 삭제 (nevents >= 197,000)\n",
    "extreme_outlier = df_clean['nevents'] >= 197000\n",
    "df_clean = df_clean[~extreme_outlier]"
   ],
   "id": "fe6e4b8ab0e8ee55",
   "outputs": [],
   "execution_count": 7
  },
  {
   "metadata": {},
   "cell_type": "markdown",
   "source": "# 5. 이상치 처리",
   "id": "c3c5afdd92b1d186"
  },
  {
   "metadata": {
    "ExecuteTime": {
     "end_time": "2025-08-04T06:55:30.646022Z",
     "start_time": "2025-08-04T06:55:30.433001Z"
    }
   },
   "cell_type": "code",
   "source": [
    "# viewed=False인데 활동 지표들이 있는 경우 처리\n",
    "if all(col in df_clean.columns for col in ['viewed', 'nplay_video', 'nchapters', 'nevents', 'ndays_act']):\n",
    "    not_viewed = df_clean['viewed'] == False\n",
    "    activity_cols = ['nplay_video', 'nchapters', 'nevents', 'ndays_act']\n",
    "\n",
    "    # Case 1: viewed=False인데 모든 활동 지표가 0이 아닌 경우 → 삭제\n",
    "    has_all_activity = True\n",
    "    for col in activity_cols:\n",
    "        if col in df_clean.columns:\n",
    "            has_all_activity &= (df_clean[col] > 0)\n",
    "\n",
    "    drop_condition = not_viewed & has_all_activity\n",
    "    drop_count = drop_condition.sum()\n",
    "\n",
    "    if drop_count > 0:\n",
    "        df_clean = df_clean[~drop_condition]\n",
    "        print(f\"viewed=False이면서 모든 활동지표가 있는 행 {drop_count}개 삭제\")\n",
    "\n",
    "    # Case 2: viewed=False인데 일부 활동 지표만 있는 경우 → 해당 값들을 0으로 변경\n",
    "    for col in activity_cols:\n",
    "        if col in df_clean.columns:\n",
    "            fix_condition = (df_clean['viewed'] == False) & (df_clean[col] > 0)\n",
    "            fix_count = fix_condition.sum()\n",
    "            if fix_count > 0:\n",
    "                df_clean.loc[fix_condition, col] = 0\n",
    "                print(f\"viewed=False이면서 {col}>0인 경우 {fix_count}개를 0으로 변경\")\n"
   ],
   "id": "1411f907a93fb7aa",
   "outputs": [
    {
     "name": "stdout",
     "output_type": "stream",
     "text": [
      "viewed=False이면서 모든 활동지표가 있는 행 1개 삭제\n",
      "viewed=False이면서 nplay_video>0인 경우 125개를 0으로 변경\n",
      "viewed=False이면서 nchapters>0인 경우 2931개를 0으로 변경\n",
      "viewed=False이면서 nevents>0인 경우 117773개를 0으로 변경\n",
      "viewed=False이면서 ndays_act>0인 경우 142781개를 0으로 변경\n"
     ]
    }
   ],
   "execution_count": 8
  },
  {
   "metadata": {
    "ExecuteTime": {
     "end_time": "2025-08-04T06:55:31.042513Z",
     "start_time": "2025-08-04T06:55:30.683404Z"
    }
   },
   "cell_type": "code",
   "source": [
    "# last_event_DI가 start_time_DI보다 앞선 경우 삭제\n",
    "if all(col in df_clean.columns for col in ['start_time_DI', 'last_event_DI']):\n",
    "    date_error = df_clean['last_event_DI'] < df_clean['start_time_DI']\n",
    "    date_error = date_error & df_clean['last_event_DI'].notna() & df_clean['start_time_DI'].notna()\n",
    "\n",
    "    error_count = date_error.sum()\n",
    "    if error_count > 0:\n",
    "        df_clean = df_clean[~date_error]\n",
    "        print(f\"마지막 활동일이 시작일보다 앞선 경우 {error_count}개 삭제\")"
   ],
   "id": "c4765c56c5ad14a9",
   "outputs": [
    {
     "name": "stdout",
     "output_type": "stream",
     "text": [
      "마지막 활동일이 시작일보다 앞선 경우 1443개 삭제\n"
     ]
    }
   ],
   "execution_count": 9
  },
  {
   "metadata": {
    "ExecuteTime": {
     "end_time": "2025-08-04T06:55:31.404058Z",
     "start_time": "2025-08-04T06:55:31.115718Z"
    }
   },
   "cell_type": "code",
   "source": [
    "# YoB IQR 이상치 처리 (상한값만)\n",
    "if 'YoB' in df_clean.columns:\n",
    "    Q1 = df_clean['YoB'].quantile(0.25)\n",
    "    Q3 = df_clean['YoB'].quantile(0.75)\n",
    "    IQR = Q3 - Q1\n",
    "    upper_bound = Q3 + 1.5 * IQR\n",
    "\n",
    "    yob_outliers = df_clean['YoB'] > upper_bound\n",
    "    outlier_count = yob_outliers.sum()\n",
    "\n",
    "    if outlier_count > 0:\n",
    "        df_clean = df_clean[~yob_outliers]\n",
    "        print(f\"YoB 상한 이상치 {outlier_count}개 삭제 (상한값: {upper_bound})\")\n"
   ],
   "id": "a6eaa4fc5317495e",
   "outputs": [
    {
     "name": "stdout",
     "output_type": "stream",
     "text": [
      "YoB 상한 이상치 608개 삭제 (상한값: 2004.5)\n"
     ]
    }
   ],
   "execution_count": 10
  },
  {
   "metadata": {
    "ExecuteTime": {
     "end_time": "2025-08-04T06:55:31.561196Z",
     "start_time": "2025-08-04T06:55:31.444571Z"
    }
   },
   "cell_type": "code",
   "source": [
    "# roles 컬럼 삭제\n",
    "if 'roles' in df_clean.columns:\n",
    "    df_clean = df_clean.drop('roles', axis=1)\n",
    "    print(\"roles 컬럼 삭제\")"
   ],
   "id": "bd24a820990f079b",
   "outputs": [
    {
     "name": "stdout",
     "output_type": "stream",
     "text": [
      "roles 컬럼 삭제\n"
     ]
    }
   ],
   "execution_count": 11
  },
  {
   "metadata": {},
   "cell_type": "markdown",
   "source": "# 6. 결측치 처리",
   "id": "51ad4edde6fb6ed6"
  },
  {
   "metadata": {
    "ExecuteTime": {
     "end_time": "2025-08-04T06:55:31.592616Z",
     "start_time": "2025-08-04T06:55:31.579314Z"
    }
   },
   "cell_type": "code",
   "source": [
    "# LoE_DI, gender 결측치를 'Unknown'으로 처리\n",
    "categorical_cols = ['LoE_DI', 'gender']"
   ],
   "id": "f09a19ab2e6415d1",
   "outputs": [],
   "execution_count": 12
  },
  {
   "metadata": {
    "ExecuteTime": {
     "end_time": "2025-08-04T06:55:31.781245Z",
     "start_time": "2025-08-04T06:55:31.626845Z"
    }
   },
   "cell_type": "code",
   "source": [
    "for col in categorical_cols:\n",
    "    if col in df_clean.columns:\n",
    "        missing_count = df_clean[col].isnull().sum()\n",
    "        if missing_count > 0:\n",
    "            df_clean[col] = df_clean[col].fillna('Unknown')\n",
    "            print(f\"{col} 결측치 {missing_count}개를 'Unknown'으로 처리\")"
   ],
   "id": "c71e345a21cbb735",
   "outputs": [
    {
     "name": "stdout",
     "output_type": "stream",
     "text": [
      "LoE_DI 결측치 105673개를 'Unknown'으로 처리\n",
      "gender 결측치 86529개를 'Unknown'으로 처리\n"
     ]
    }
   ],
   "execution_count": 13
  },
  {
   "metadata": {},
   "cell_type": "markdown",
   "source": "# 7. 최종 데이터 타입 최적화",
   "id": "45de170f19de1591"
  },
  {
   "metadata": {
    "ExecuteTime": {
     "end_time": "2025-08-04T06:55:32.268605Z",
     "start_time": "2025-08-04T06:55:31.874705Z"
    }
   },
   "cell_type": "code",
   "source": [
    "# 정수형 컬럼들\n",
    "integer_cols = ['nevents', 'ndays_act', 'nchapters', 'nforum_posts', 'nplay_video']\n",
    "for col in integer_cols:\n",
    "    if col in df_clean.columns:\n",
    "        if df_clean[col].isnull().sum() > 0:\n",
    "            df_clean[col] = df_clean[col].astype('Int64')  # nullable integer\n",
    "        else:\n",
    "            df_clean[col] = df_clean[col].astype('int64')"
   ],
   "id": "e0eaf184b330a3a1",
   "outputs": [],
   "execution_count": 14
  },
  {
   "metadata": {
    "ExecuteTime": {
     "end_time": "2025-08-04T06:55:32.303040Z",
     "start_time": "2025-08-04T06:55:32.289457Z"
    }
   },
   "cell_type": "code",
   "source": [
    "# 실수형 컬럼들\n",
    "float_cols = ['grade']\n",
    "for col in float_cols:\n",
    "    if col in df_clean.columns:\n",
    "        df_clean[col] = df_clean[col].astype('float64')"
   ],
   "id": "ea0f58d5c07c8e66",
   "outputs": [],
   "execution_count": 15
  },
  {
   "metadata": {
    "ExecuteTime": {
     "end_time": "2025-08-04T06:55:32.503779Z",
     "start_time": "2025-08-04T06:55:32.331221Z"
    }
   },
   "cell_type": "code",
   "source": [
    "# 범주형 컬럼들 (전처리 완료 후 category로 변경)\n",
    "categorical_cols = ['final_cc_cname_DI', 'LoE_DI', 'gender']\n",
    "for col in categorical_cols:\n",
    "    if col in df_clean.columns:\n",
    "        df_clean[col] = df_clean[col].astype('category')"
   ],
   "id": "d94f154d3e5566a8",
   "outputs": [],
   "execution_count": 16
  },
  {
   "metadata": {},
   "cell_type": "markdown",
   "source": "# 8. 전처리 결과 확인",
   "id": "dc4b8911416a2d8e"
  },
  {
   "metadata": {
    "ExecuteTime": {
     "end_time": "2025-08-04T06:55:32.642927Z",
     "start_time": "2025-08-04T06:55:32.509569Z"
    }
   },
   "cell_type": "code",
   "source": [
    "print(f\"전처리 결과: {df.shape} → {df_clean.shape}\")\n",
    "print(f\"제거된 행: {df.shape[0] - df_clean.shape[0]:,}개\")\n",
    "print(f\"제거된 열: {df.shape[1] - df_clean.shape[1]}개\")\n",
    "\n",
    "# 최종 결측치 현황\n",
    "final_missing = df_clean.isnull().sum()\n",
    "if final_missing.sum() > 0:\n",
    "    final_missing_df = pd.DataFrame({\n",
    "        '결측치 수': final_missing,\n",
    "        '결측치 비율(%)': (final_missing / len(df_clean) * 100).round(2)\n",
    "    })\n",
    "    display(final_missing_df[final_missing_df['결측치 수'] > 0])\n",
    "else:\n",
    "    print(\"결측치 없음\")\n",
    "\n",
    "# 주요 컬럼 분포 확인\n",
    "if 'grade' in df_clean.columns:\n",
    "    print(f\"Grade - 평균: {df_clean['grade'].mean():.3f}, 범위: {df_clean['grade'].min()}-{df_clean['grade'].max()}\")\n",
    "\n",
    "if 'viewed' in df_clean.columns:\n",
    "    viewed_dist = df_clean['viewed'].value_counts()\n",
    "    print(f\"Viewed 분포: True {viewed_dist.get(True, 0):,}개, False {viewed_dist.get(False, 0):,}개\")\n"
   ],
   "id": "1691fd0e2368d0d",
   "outputs": [
    {
     "name": "stdout",
     "output_type": "stream",
     "text": [
      "전처리 결과: (641138, 21) → (639077, 20)\n",
      "제거된 행: 2,061개\n",
      "제거된 열: 1개\n"
     ]
    },
    {
     "data": {
      "text/plain": [
       "                결측치 수  결측치 비율(%)\n",
       "YoB             96296      15.07\n",
       "grade           56738       8.88\n",
       "last_event_DI  178623      27.95\n",
       "nevents        198712      31.09\n",
       "ndays_act      162430      25.42\n",
       "nplay_video    455816      71.32\n",
       "nchapters      257711      40.33"
      ],
      "text/html": [
       "<div>\n",
       "<style scoped>\n",
       "    .dataframe tbody tr th:only-of-type {\n",
       "        vertical-align: middle;\n",
       "    }\n",
       "\n",
       "    .dataframe tbody tr th {\n",
       "        vertical-align: top;\n",
       "    }\n",
       "\n",
       "    .dataframe thead th {\n",
       "        text-align: right;\n",
       "    }\n",
       "</style>\n",
       "<table border=\"1\" class=\"dataframe\">\n",
       "  <thead>\n",
       "    <tr style=\"text-align: right;\">\n",
       "      <th></th>\n",
       "      <th>결측치 수</th>\n",
       "      <th>결측치 비율(%)</th>\n",
       "    </tr>\n",
       "  </thead>\n",
       "  <tbody>\n",
       "    <tr>\n",
       "      <th>YoB</th>\n",
       "      <td>96296</td>\n",
       "      <td>15.07</td>\n",
       "    </tr>\n",
       "    <tr>\n",
       "      <th>grade</th>\n",
       "      <td>56738</td>\n",
       "      <td>8.88</td>\n",
       "    </tr>\n",
       "    <tr>\n",
       "      <th>last_event_DI</th>\n",
       "      <td>178623</td>\n",
       "      <td>27.95</td>\n",
       "    </tr>\n",
       "    <tr>\n",
       "      <th>nevents</th>\n",
       "      <td>198712</td>\n",
       "      <td>31.09</td>\n",
       "    </tr>\n",
       "    <tr>\n",
       "      <th>ndays_act</th>\n",
       "      <td>162430</td>\n",
       "      <td>25.42</td>\n",
       "    </tr>\n",
       "    <tr>\n",
       "      <th>nplay_video</th>\n",
       "      <td>455816</td>\n",
       "      <td>71.32</td>\n",
       "    </tr>\n",
       "    <tr>\n",
       "      <th>nchapters</th>\n",
       "      <td>257711</td>\n",
       "      <td>40.33</td>\n",
       "    </tr>\n",
       "  </tbody>\n",
       "</table>\n",
       "</div>"
      ]
     },
     "metadata": {},
     "output_type": "display_data"
    },
    {
     "name": "stdout",
     "output_type": "stream",
     "text": [
      "Grade - 평균: 0.034, 범위: 0.0-1.0\n",
      "Viewed 분포: True 399,208개, False 239,869개\n"
     ]
    }
   ],
   "execution_count": 17
  },
  {
   "metadata": {},
   "cell_type": "markdown",
   "source": "# 9. 데이터 저장",
   "id": "6c24e251bfb38b25"
  },
  {
   "metadata": {
    "ExecuteTime": {
     "end_time": "2025-08-04T06:55:39.520399Z",
     "start_time": "2025-08-04T06:55:32.682646Z"
    }
   },
   "cell_type": "code",
   "source": [
    "# 저장 경로 설정 (현재 폴더)\n",
    "output_path = \"./preprocessed_course_data.csv\"\n",
    "df_clean.to_csv(output_path, index=False, encoding='utf-8-sig')\n",
    "print(f\"전처리 완료 데이터 저장: {output_path}\")"
   ],
   "id": "e0736c39b3f9a7de",
   "outputs": [
    {
     "name": "stdout",
     "output_type": "stream",
     "text": [
      "전처리 완료 데이터 저장: ./preprocessed_course_data.csv\n"
     ]
    }
   ],
   "execution_count": 18
  }
 ],
 "metadata": {
  "kernelspec": {
   "display_name": "Python 3",
   "language": "python",
   "name": "python3"
  },
  "language_info": {
   "codemirror_mode": {
    "name": "ipython",
    "version": 2
   },
   "file_extension": ".py",
   "mimetype": "text/x-python",
   "name": "python",
   "nbconvert_exporter": "python",
   "pygments_lexer": "ipython2",
   "version": "2.7.6"
  }
 },
 "nbformat": 4,
 "nbformat_minor": 5
}
