{
 "cells": [
  {
   "cell_type": "code",
   "id": "initial_id",
   "metadata": {
    "collapsed": true,
    "ExecuteTime": {
     "end_time": "2025-08-04T06:55:55.042902Z",
     "start_time": "2025-08-04T06:55:55.032686Z"
    }
   },
   "source": [
    "import pandas as pd\n",
    "import numpy as np"
   ],
   "outputs": [],
   "execution_count": 1
  },
  {
   "metadata": {
    "ExecuteTime": {
     "end_time": "2025-08-04T06:55:57.212203Z",
     "start_time": "2025-08-04T06:55:55.056859Z"
    }
   },
   "cell_type": "code",
   "source": [
    "# 데이터 파일 경로 설정\n",
    "data_path = \"preprocessed_course_data.csv\"\n",
    "\n",
    "# 데이터 로드\n",
    "df = pd.read_csv(data_path)"
   ],
   "id": "738839492d2e85f0",
   "outputs": [],
   "execution_count": 2
  },
  {
   "metadata": {
    "ExecuteTime": {
     "end_time": "2025-08-04T06:56:02.440317Z",
     "start_time": "2025-08-04T06:55:57.223233Z"
    }
   },
   "cell_type": "code",
   "source": [
    "# Course ID가 있으면 파싱 실행\n",
    "if 'course_id' in df.columns:\n",
    "    print(\"\\n=== Course ID 파싱 시작 ===\")\n",
    "\n",
    "    # 강의 ID와 제목 매핑 딕셔너리\n",
    "    course_dict = {\n",
    "        \"HarvardX/CB22x/2013_Spring\": \"The Ancient Greek Hero\",\n",
    "        \"HarvardX/CS50x/2012\": \"Introduction to Computer Science\",\n",
    "        \"HarvardX/ER22x/2013_Spring\": \"Justice\",\n",
    "        \"HarvardX/PH207x/2012_Fall\": \"Health in Numbers: Quantitative Methods in Clinical & Public Health Research\",\n",
    "        \"HarvardX/PH278x/2013_Spring\": \"Human Health and Global Environmental Change\",\n",
    "        \"MITx/6.002x/2012_Fall\": \"Circuits and Electronics\",\n",
    "        \"MITx/6.002x/2013_Spring\": \"Circuits and Electronics\",\n",
    "        \"MITx/14.73x/2013_Spring\": \"The Challenges of Global Poverty\",\n",
    "        \"MITx/2.01x/2013_Spring\": \"Elements of Structures\",\n",
    "        \"MITx/3.091x/2012_Fall\": \"Introduction to Solid State Chemistry\",\n",
    "        \"MITx/3.091x/2013_Spring\": \"Introduction to Solid State Chemistry\",\n",
    "        \"MITx/6.00x/2012_Fall\": \"Introduction to Computer Science and Programming\",\n",
    "        \"MITx/6.00x/2013_Spring\": \"Introduction to Computer Science and Programming\",\n",
    "        \"MITx/7.00x/2013_Spring\": \"Introduction to Biology - The Secret of Life\",\n",
    "        \"MITx/8.02x/2013_Spring\": \"Physics II: Electricity and Magnetism\",\n",
    "        \"MITx/8.MReV/2013_Summer\": \"Mechanics ReView\"\n",
    "    }\n",
    "\n",
    "    # Course ID 분해\n",
    "    uni_course_seme = df['course_id'].str.split('/', expand=True)\n",
    "    uni_course_seme.columns = ['university', 'course_code', 'semester']\n",
    "\n",
    "    # 년도와 학기 분리\n",
    "    date = uni_course_seme['semester'].str.split('_', expand=True)\n",
    "    date.columns = ['year', 'semester']\n",
    "\n",
    "    # 새로운 컬럼들 결합\n",
    "    new_col = pd.concat([uni_course_seme[['university', 'course_code']], date], axis=1)\n",
    "    new_col = new_col.replace([None], np.nan)\n",
    "\n",
    "    # 원본 데이터프레임에 추가\n",
    "    df = pd.concat([df, new_col], axis=1)\n",
    "\n",
    "    # 강의 제목 매핑\n",
    "    df['course_title'] = df['course_id'].map(course_dict)\n",
    "\n",
    "    print(\"Course ID 파싱 완료 ✅\")\n",
    "    print(f\"University 분포:\\n{df['university'].value_counts()}\")\n",
    "    print(f\"Year 분포:\\n{df['year'].value_counts()}\")\n",
    "\n",
    "else:\n",
    "    print(\"\\ncourse_id 컬럼이 없습니다. Course 파싱을 건너뜁니다.\")\n",
    "\n",
    "# 최종 데이터 상태 확인\n",
    "df.head()"
   ],
   "id": "45e535c6d94e64a7",
   "outputs": [
    {
     "name": "stdout",
     "output_type": "stream",
     "text": [
      "\n",
      "=== Course ID 파싱 시작 ===\n",
      "Course ID 파싱 완료 ✅\n",
      "University 분포:\n",
      "university\n",
      "HarvardX    337183\n",
      "MITx        301894\n",
      "Name: count, dtype: int64\n",
      "Year 분포:\n",
      "year\n",
      "2012    331814\n",
      "2013    307263\n",
      "Name: count, dtype: int64\n"
     ]
    },
    {
     "data": {
      "text/plain": [
       "   index                   course_id       userid_DI  registered  viewed  \\\n",
       "0      0  HarvardX/CB22x/2013_Spring  MHxPC130442623        True   False   \n",
       "1      1         HarvardX/CS50x/2012  MHxPC130442623        True    True   \n",
       "2      2  HarvardX/CB22x/2013_Spring  MHxPC130275857        True   False   \n",
       "3      3         HarvardX/CS50x/2012  MHxPC130275857        True   False   \n",
       "4      4  HarvardX/ER22x/2013_Spring  MHxPC130275857        True   False   \n",
       "\n",
       "   explored  certified final_cc_cname_DI   LoE_DI  YoB  ... ndays_act  \\\n",
       "0     False      False     United States  Unknown  NaN  ...       0.0   \n",
       "1     False      False     United States  Unknown  NaN  ...       9.0   \n",
       "2     False      False     United States  Unknown  NaN  ...       0.0   \n",
       "3     False      False     United States  Unknown  NaN  ...       0.0   \n",
       "4     False      False     United States  Unknown  NaN  ...       0.0   \n",
       "\n",
       "   nplay_video nchapters nforum_posts  incomplete_flag  university  \\\n",
       "0          NaN       NaN            0             True    HarvardX   \n",
       "1          NaN       1.0            0             True    HarvardX   \n",
       "2          NaN       NaN            0             True    HarvardX   \n",
       "3          NaN       NaN            0             True    HarvardX   \n",
       "4          NaN       NaN            0             True    HarvardX   \n",
       "\n",
       "   course_code  year  semester                      course_title  \n",
       "0        CB22x  2013    Spring            The Ancient Greek Hero  \n",
       "1        CS50x  2012       NaN  Introduction to Computer Science  \n",
       "2        CB22x  2013    Spring            The Ancient Greek Hero  \n",
       "3        CS50x  2012       NaN  Introduction to Computer Science  \n",
       "4        ER22x  2013    Spring                           Justice  \n",
       "\n",
       "[5 rows x 25 columns]"
      ],
      "text/html": [
       "<div>\n",
       "<style scoped>\n",
       "    .dataframe tbody tr th:only-of-type {\n",
       "        vertical-align: middle;\n",
       "    }\n",
       "\n",
       "    .dataframe tbody tr th {\n",
       "        vertical-align: top;\n",
       "    }\n",
       "\n",
       "    .dataframe thead th {\n",
       "        text-align: right;\n",
       "    }\n",
       "</style>\n",
       "<table border=\"1\" class=\"dataframe\">\n",
       "  <thead>\n",
       "    <tr style=\"text-align: right;\">\n",
       "      <th></th>\n",
       "      <th>index</th>\n",
       "      <th>course_id</th>\n",
       "      <th>userid_DI</th>\n",
       "      <th>registered</th>\n",
       "      <th>viewed</th>\n",
       "      <th>explored</th>\n",
       "      <th>certified</th>\n",
       "      <th>final_cc_cname_DI</th>\n",
       "      <th>LoE_DI</th>\n",
       "      <th>YoB</th>\n",
       "      <th>...</th>\n",
       "      <th>ndays_act</th>\n",
       "      <th>nplay_video</th>\n",
       "      <th>nchapters</th>\n",
       "      <th>nforum_posts</th>\n",
       "      <th>incomplete_flag</th>\n",
       "      <th>university</th>\n",
       "      <th>course_code</th>\n",
       "      <th>year</th>\n",
       "      <th>semester</th>\n",
       "      <th>course_title</th>\n",
       "    </tr>\n",
       "  </thead>\n",
       "  <tbody>\n",
       "    <tr>\n",
       "      <th>0</th>\n",
       "      <td>0</td>\n",
       "      <td>HarvardX/CB22x/2013_Spring</td>\n",
       "      <td>MHxPC130442623</td>\n",
       "      <td>True</td>\n",
       "      <td>False</td>\n",
       "      <td>False</td>\n",
       "      <td>False</td>\n",
       "      <td>United States</td>\n",
       "      <td>Unknown</td>\n",
       "      <td>NaN</td>\n",
       "      <td>...</td>\n",
       "      <td>0.0</td>\n",
       "      <td>NaN</td>\n",
       "      <td>NaN</td>\n",
       "      <td>0</td>\n",
       "      <td>True</td>\n",
       "      <td>HarvardX</td>\n",
       "      <td>CB22x</td>\n",
       "      <td>2013</td>\n",
       "      <td>Spring</td>\n",
       "      <td>The Ancient Greek Hero</td>\n",
       "    </tr>\n",
       "    <tr>\n",
       "      <th>1</th>\n",
       "      <td>1</td>\n",
       "      <td>HarvardX/CS50x/2012</td>\n",
       "      <td>MHxPC130442623</td>\n",
       "      <td>True</td>\n",
       "      <td>True</td>\n",
       "      <td>False</td>\n",
       "      <td>False</td>\n",
       "      <td>United States</td>\n",
       "      <td>Unknown</td>\n",
       "      <td>NaN</td>\n",
       "      <td>...</td>\n",
       "      <td>9.0</td>\n",
       "      <td>NaN</td>\n",
       "      <td>1.0</td>\n",
       "      <td>0</td>\n",
       "      <td>True</td>\n",
       "      <td>HarvardX</td>\n",
       "      <td>CS50x</td>\n",
       "      <td>2012</td>\n",
       "      <td>NaN</td>\n",
       "      <td>Introduction to Computer Science</td>\n",
       "    </tr>\n",
       "    <tr>\n",
       "      <th>2</th>\n",
       "      <td>2</td>\n",
       "      <td>HarvardX/CB22x/2013_Spring</td>\n",
       "      <td>MHxPC130275857</td>\n",
       "      <td>True</td>\n",
       "      <td>False</td>\n",
       "      <td>False</td>\n",
       "      <td>False</td>\n",
       "      <td>United States</td>\n",
       "      <td>Unknown</td>\n",
       "      <td>NaN</td>\n",
       "      <td>...</td>\n",
       "      <td>0.0</td>\n",
       "      <td>NaN</td>\n",
       "      <td>NaN</td>\n",
       "      <td>0</td>\n",
       "      <td>True</td>\n",
       "      <td>HarvardX</td>\n",
       "      <td>CB22x</td>\n",
       "      <td>2013</td>\n",
       "      <td>Spring</td>\n",
       "      <td>The Ancient Greek Hero</td>\n",
       "    </tr>\n",
       "    <tr>\n",
       "      <th>3</th>\n",
       "      <td>3</td>\n",
       "      <td>HarvardX/CS50x/2012</td>\n",
       "      <td>MHxPC130275857</td>\n",
       "      <td>True</td>\n",
       "      <td>False</td>\n",
       "      <td>False</td>\n",
       "      <td>False</td>\n",
       "      <td>United States</td>\n",
       "      <td>Unknown</td>\n",
       "      <td>NaN</td>\n",
       "      <td>...</td>\n",
       "      <td>0.0</td>\n",
       "      <td>NaN</td>\n",
       "      <td>NaN</td>\n",
       "      <td>0</td>\n",
       "      <td>True</td>\n",
       "      <td>HarvardX</td>\n",
       "      <td>CS50x</td>\n",
       "      <td>2012</td>\n",
       "      <td>NaN</td>\n",
       "      <td>Introduction to Computer Science</td>\n",
       "    </tr>\n",
       "    <tr>\n",
       "      <th>4</th>\n",
       "      <td>4</td>\n",
       "      <td>HarvardX/ER22x/2013_Spring</td>\n",
       "      <td>MHxPC130275857</td>\n",
       "      <td>True</td>\n",
       "      <td>False</td>\n",
       "      <td>False</td>\n",
       "      <td>False</td>\n",
       "      <td>United States</td>\n",
       "      <td>Unknown</td>\n",
       "      <td>NaN</td>\n",
       "      <td>...</td>\n",
       "      <td>0.0</td>\n",
       "      <td>NaN</td>\n",
       "      <td>NaN</td>\n",
       "      <td>0</td>\n",
       "      <td>True</td>\n",
       "      <td>HarvardX</td>\n",
       "      <td>ER22x</td>\n",
       "      <td>2013</td>\n",
       "      <td>Spring</td>\n",
       "      <td>Justice</td>\n",
       "    </tr>\n",
       "  </tbody>\n",
       "</table>\n",
       "<p>5 rows × 25 columns</p>\n",
       "</div>"
      ]
     },
     "execution_count": 3,
     "metadata": {},
     "output_type": "execute_result"
    }
   ],
   "execution_count": 3
  },
  {
   "metadata": {
    "ExecuteTime": {
     "end_time": "2025-08-04T06:56:02.661835Z",
     "start_time": "2025-08-04T06:56:02.503089Z"
    }
   },
   "cell_type": "code",
   "source": "df = df.drop(columns=['index','course_id'])",
   "id": "db331dbe79ee4e91",
   "outputs": [],
   "execution_count": 4
  },
  {
   "metadata": {
    "ExecuteTime": {
     "end_time": "2025-08-04T06:56:02.941178Z",
     "start_time": "2025-08-04T06:56:02.682738Z"
    }
   },
   "cell_type": "code",
   "source": [
    "# start_time_DI 변환\n",
    "if 'start_time_DI' in df.columns:\n",
    "    df['start_time_DI'] = pd.to_datetime(df['start_time_DI'], errors='coerce')\n",
    "\n",
    "# last_event_DI 변환\n",
    "if 'last_event_DI' in df.columns:\n",
    "    df['last_event_DI'] = pd.to_datetime(df['last_event_DI'], errors='coerce')"
   ],
   "id": "f4e6bd1afb277a4a",
   "outputs": [],
   "execution_count": 5
  },
  {
   "metadata": {
    "ExecuteTime": {
     "end_time": "2025-08-04T06:56:22.305425Z",
     "start_time": "2025-08-04T06:56:22.112834Z"
    }
   },
   "cell_type": "code",
   "source": [
    "# 1. last_event가 null이면 start_time과 같게 만들기\n",
    "df['last_event_clean'] = df['last_event_DI'].fillna(df['start_time_DI'])\n",
    "\n",
    "# 2. 날짜 차이 계산\n",
    "df['study_days'] = (df['last_event_clean'] - df['start_time_DI']).dt.days\n",
    "\n",
    "# 3. 혹시 음수면 0으로\n",
    "df['study_days'] = df['study_days'].fillna(0).astype(int)\n",
    "df.loc[df['study_days'] < 0, 'study_days'] = 0\n",
    "\n",
    "# 4. 임시 컬럼 삭제\n",
    "df = df.drop(columns=['last_event_clean'])"
   ],
   "id": "b2174b093e52bd4f",
   "outputs": [],
   "execution_count": 7
  },
  {
   "metadata": {
    "ExecuteTime": {
     "end_time": "2025-08-04T06:56:24.245277Z",
     "start_time": "2025-08-04T06:56:23.906988Z"
    }
   },
   "cell_type": "code",
   "source": "df.info()",
   "id": "d01cbe7d26e1d823",
   "outputs": [
    {
     "name": "stdout",
     "output_type": "stream",
     "text": [
      "<class 'pandas.core.frame.DataFrame'>\n",
      "RangeIndex: 639077 entries, 0 to 639076\n",
      "Data columns (total 24 columns):\n",
      " #   Column             Non-Null Count   Dtype         \n",
      "---  ------             --------------   -----         \n",
      " 0   userid_DI          639077 non-null  object        \n",
      " 1   registered         639077 non-null  bool          \n",
      " 2   viewed             639077 non-null  bool          \n",
      " 3   explored           639077 non-null  bool          \n",
      " 4   certified          639077 non-null  bool          \n",
      " 5   final_cc_cname_DI  639077 non-null  object        \n",
      " 6   LoE_DI             639077 non-null  object        \n",
      " 7   YoB                542781 non-null  float64       \n",
      " 8   gender             639077 non-null  object        \n",
      " 9   grade              582339 non-null  float64       \n",
      " 10  start_time_DI      639077 non-null  datetime64[ns]\n",
      " 11  last_event_DI      460454 non-null  datetime64[ns]\n",
      " 12  nevents            440365 non-null  float64       \n",
      " 13  ndays_act          476647 non-null  float64       \n",
      " 14  nplay_video        183261 non-null  float64       \n",
      " 15  nchapters          381366 non-null  float64       \n",
      " 16  nforum_posts       639077 non-null  int64         \n",
      " 17  incomplete_flag    639077 non-null  bool          \n",
      " 18  university         639077 non-null  object        \n",
      " 19  course_code        639077 non-null  object        \n",
      " 20  year               639077 non-null  object        \n",
      " 21  semester           470106 non-null  object        \n",
      " 22  course_title       639077 non-null  object        \n",
      " 23  study_days         639077 non-null  int32         \n",
      "dtypes: bool(5), datetime64[ns](2), float64(6), int32(1), int64(1), object(9)\n",
      "memory usage: 93.2+ MB\n"
     ]
    }
   ],
   "execution_count": 8
  },
  {
   "metadata": {
    "ExecuteTime": {
     "end_time": "2025-08-04T06:56:29.238804Z",
     "start_time": "2025-08-04T06:56:29.217937Z"
    }
   },
   "cell_type": "code",
   "source": [
    "# YoB로 나이 계산\n",
    "df['age'] = np.where(df['YoB'].notna(), 2013 - df['YoB'], np.nan)"
   ],
   "id": "1f0b2d429ae8b674",
   "outputs": [],
   "execution_count": 9
  },
  {
   "metadata": {
    "ExecuteTime": {
     "end_time": "2025-08-04T06:56:31.023362Z",
     "start_time": "2025-08-04T06:56:30.707367Z"
    }
   },
   "cell_type": "code",
   "source": "df = df.drop(columns=['YoB'])",
   "id": "2b05aeb79dfe5f76",
   "outputs": [],
   "execution_count": 10
  },
  {
   "metadata": {
    "ExecuteTime": {
     "end_time": "2025-08-04T06:56:31.900739Z",
     "start_time": "2025-08-04T06:56:31.818062Z"
    }
   },
   "cell_type": "code",
   "source": "df['age'].describe()",
   "id": "42fd5570141d3977",
   "outputs": [
    {
     "data": {
      "text/plain": [
       "count    542781.000000\n",
       "mean         27.778351\n",
       "std           8.853174\n",
       "min          10.000000\n",
       "25%          22.000000\n",
       "50%          25.000000\n",
       "75%          31.000000\n",
       "max          82.000000\n",
       "Name: age, dtype: float64"
      ]
     },
     "execution_count": 11,
     "metadata": {},
     "output_type": "execute_result"
    }
   ],
   "execution_count": 11
  },
  {
   "metadata": {
    "ExecuteTime": {
     "end_time": "2025-08-04T06:56:44.224004Z",
     "start_time": "2025-08-04T06:56:34.747214Z"
    }
   },
   "cell_type": "code",
   "source": [
    "# 저장 경로 설정 (현재 폴더)\n",
    "output_path = \"./preprocessed_course_data.csv\"\n",
    "df.to_csv(output_path, index=False, encoding='utf-8-sig')\n",
    "print(f\"전처리 완료 데이터 저장: {output_path}\")"
   ],
   "id": "fc7bcf6a5839072f",
   "outputs": [
    {
     "name": "stdout",
     "output_type": "stream",
     "text": [
      "전처리 완료 데이터 저장: ./preprocessed_course_data.csv\n"
     ]
    }
   ],
   "execution_count": 12
  }
 ],
 "metadata": {
  "kernelspec": {
   "display_name": "Python 3",
   "language": "python",
   "name": "python3"
  },
  "language_info": {
   "codemirror_mode": {
    "name": "ipython",
    "version": 2
   },
   "file_extension": ".py",
   "mimetype": "text/x-python",
   "name": "python",
   "nbconvert_exporter": "python",
   "pygments_lexer": "ipython2",
   "version": "2.7.6"
  }
 },
 "nbformat": 4,
 "nbformat_minor": 5
}
